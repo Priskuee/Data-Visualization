{
 "cells": [
  {
   "cell_type": "code",
   "execution_count": 3,
   "metadata": {
    "collapsed": false
   },
   "outputs": [],
   "source": [
    "import json\n",
    "from twitter import Twitter, OAuth, TwitterHTTPError, TwitterStream \n",
    "import twitter\n",
    "import config"
   ]
  },
  {
   "cell_type": "code",
   "execution_count": 8,
   "metadata": {
    "collapsed": false
   },
   "outputs": [],
   "source": [
    "'function for finding the tweets'\n",
    "# Variables that contains the user credentials to access Twitter API \n",
    "def getTweet(ACCESS_TOKEN,ACCESS_SECRET,CONSUMER_KEY,CONSUMER_SECRET):\n",
    "    oauth = OAuth(ACCESS_TOKEN, ACCESS_SECRET, CONSUMER_KEY, CONSUMER_SECRET)\n",
    "    # Initiate the connection to Twitter Streaming API\n",
    "    twitter= Twitter(auth=oauth)\n",
    "    i=0\n",
    "    iterator=twitter.search.tweets(q='IanGrillot',result_type='popular',lang='en',count=10,untill='2017-02-27')\n",
    "    # Get a sample of the public data following through Twitter\n",
    "    #print(iterator)\n",
    "    for key in iterator[\"statuses\"]:\n",
    "        print(key.get(\"text\"))\n",
    "        print(\"---\")"
   ]
  },
  {
   "cell_type": "code",
   "execution_count": 9,
   "metadata": {
    "collapsed": false
   },
   "outputs": [
    {
     "name": "stdout",
     "output_type": "stream",
     "text": [
      "Well just to irritate Trump let's get #Iangrillot trending as this hero's story is being ignored in USA https://t.co/IQfSOnfVQY\n",
      "---\n",
      "\"I did what was naturally right to do.\" *This* is what makes America great. #IanGrillot https://t.co/iiBrVeVitI\n",
      "---\n",
      "This man!\n",
      "A true hero, putting his life on the line to help other fellow human beings.\n",
      "https://t.co/jLNzJxEO9O… https://t.co/TRNVOlpNzd\n",
      "---\n",
      "\"We're all humans\"\n",
      "-- #IanGrillot \n",
      "https://t.co/znSaQvglVY\n",
      "---\n",
      "Donation links #SrinivasKuchibhotla, killed, #AlokMadasani shot in apparent hate crime in Kansas; #IanGrillot shot… https://t.co/5Q4oLX7Jgk\n",
      "---\n",
      "#IanGrillot is a hero, Yes #SJWs there are non-racist decent White males. But is \"Get out of my country\" the new #AllahuAkbar? @KatzOnEarth\n",
      "---\n",
      "#Kansasshooting: How braveheart #IanGrillot put his life on line to try and save Indian techies from hate crime… https://t.co/SGveixzSPp\n",
      "---\n"
     ]
    }
   ],
   "source": [
    "getTweet(config.ACCESS_TOKEN,config.ACCESS_SECRET,config.CONSUMER_KEY,config.CONSUMER_SECRET)"
   ]
  },
  {
   "cell_type": "code",
   "execution_count": null,
   "metadata": {
    "collapsed": true
   },
   "outputs": [],
   "source": []
  }
 ],
 "metadata": {
  "anaconda-cloud": {},
  "kernelspec": {
   "display_name": "Python [conda root]",
   "language": "python",
   "name": "conda-root-py"
  },
  "language_info": {
   "codemirror_mode": {
    "name": "ipython",
    "version": 3
   },
   "file_extension": ".py",
   "mimetype": "text/x-python",
   "name": "python",
   "nbconvert_exporter": "python",
   "pygments_lexer": "ipython3",
   "version": "3.5.2"
  }
 },
 "nbformat": 4,
 "nbformat_minor": 1
}
